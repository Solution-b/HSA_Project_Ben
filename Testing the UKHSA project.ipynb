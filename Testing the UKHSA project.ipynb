{
 "cells": [
  {
   "cell_type": "code",
   "execution_count": 1,
   "id": "a187ea8e",
   "metadata": {},
   "outputs": [
    {
     "name": "stdout",
     "output_type": "stream",
     "text": [
      "Testing connection\n"
     ]
    }
   ],
   "source": [
    "print (\"Testing connection\")"
   ]
  },
  {
   "cell_type": "code",
   "execution_count": 2,
   "id": "33713c05",
   "metadata": {},
   "outputs": [
    {
     "name": "stdout",
     "output_type": "stream",
     "text": [
      "pandas version: 1.4.2\n"
     ]
    }
   ],
   "source": [
    "import pandas as pd\n",
    "print(\"pandas version:\", pd.__version__)"
   ]
  },
  {
   "cell_type": "code",
   "execution_count": 3,
   "id": "f0b6d5e3",
   "metadata": {},
   "outputs": [
    {
     "name": "stdout",
     "output_type": "stream",
     "text": [
      "pandas version: 1.4.2\n"
     ]
    }
   ],
   "source": [
    "print(\"pandas version:\", pd.__version__)"
   ]
  },
  {
   "cell_type": "code",
   "execution_count": 4,
   "id": "566b7416",
   "metadata": {},
   "outputs": [
    {
     "name": "stdout",
     "output_type": "stream",
     "text": [
      "pyodbc version: 4.0.32\n"
     ]
    }
   ],
   "source": [
    "import pyodbc\n",
    "print (\"pyodbc version:\", pyodbc.version)"
   ]
  },
  {
   "cell_type": "code",
   "execution_count": 5,
   "id": "f99eca87",
   "metadata": {},
   "outputs": [],
   "source": [
    "import matplotlib.pyplot as plt\n",
    "import seaborn as sns"
   ]
  },
  {
   "cell_type": "code",
   "execution_count": 12,
   "id": "1cc26c25",
   "metadata": {},
   "outputs": [
    {
     "data": {
      "text/html": [
       "<div>\n",
       "<style scoped>\n",
       "    .dataframe tbody tr th:only-of-type {\n",
       "        vertical-align: middle;\n",
       "    }\n",
       "\n",
       "    .dataframe tbody tr th {\n",
       "        vertical-align: top;\n",
       "    }\n",
       "\n",
       "    .dataframe thead th {\n",
       "        text-align: right;\n",
       "    }\n",
       "</style>\n",
       "<table border=\"1\" class=\"dataframe\">\n",
       "  <thead>\n",
       "    <tr style=\"text-align: right;\">\n",
       "      <th></th>\n",
       "      <th>Channel</th>\n",
       "      <th>ProductName</th>\n",
       "      <th>Quantity</th>\n",
       "      <th>Price</th>\n",
       "    </tr>\n",
       "  </thead>\n",
       "  <tbody>\n",
       "    <tr>\n",
       "      <th>0</th>\n",
       "      <td>Ebay</td>\n",
       "      <td>Orange</td>\n",
       "      <td>12</td>\n",
       "      <td>5.720</td>\n",
       "    </tr>\n",
       "    <tr>\n",
       "      <th>1</th>\n",
       "      <td>Amazon</td>\n",
       "      <td>Fruits</td>\n",
       "      <td>22</td>\n",
       "      <td>2.375</td>\n",
       "    </tr>\n",
       "    <tr>\n",
       "      <th>2</th>\n",
       "      <td>Own website</td>\n",
       "      <td>Auto Parts</td>\n",
       "      <td>3</td>\n",
       "      <td>4.360</td>\n",
       "    </tr>\n",
       "    <tr>\n",
       "      <th>3</th>\n",
       "      <td>Ebay</td>\n",
       "      <td>Electrical</td>\n",
       "      <td>15</td>\n",
       "      <td>10.990</td>\n",
       "    </tr>\n",
       "    <tr>\n",
       "      <th>4</th>\n",
       "      <td>Ebay</td>\n",
       "      <td>Grape</td>\n",
       "      <td>1</td>\n",
       "      <td>8.340</td>\n",
       "    </tr>\n",
       "  </tbody>\n",
       "</table>\n",
       "</div>"
      ],
      "text/plain": [
       "       Channel ProductName  Quantity   Price\n",
       "0         Ebay      Orange        12   5.720\n",
       "1       Amazon      Fruits        22   2.375\n",
       "2  Own website  Auto Parts         3   4.360\n",
       "3         Ebay  Electrical        15  10.990\n",
       "4         Ebay       Grape         1   8.340"
      ]
     },
     "execution_count": 12,
     "metadata": {},
     "output_type": "execute_result"
    }
   ],
   "source": [
    "import pandas as pd\n",
    "\n",
    "# Update the file path to use double backslashes or a raw string to handle escape characters\n",
    "\n",
    "# Try reading the CSV file again\n",
    "df = pd.read_csv(r'C:\\Users\\ogoch\\Documents\\Jobs\\Civil service\\UKHSA\\testdata.csv')\n",
    "df.head()"
   ]
  },
  {
   "cell_type": "code",
   "execution_count": 13,
   "id": "ee2ec1e3",
   "metadata": {},
   "outputs": [
    {
     "data": {
      "text/html": [
       "<div>\n",
       "<style scoped>\n",
       "    .dataframe tbody tr th:only-of-type {\n",
       "        vertical-align: middle;\n",
       "    }\n",
       "\n",
       "    .dataframe tbody tr th {\n",
       "        vertical-align: top;\n",
       "    }\n",
       "\n",
       "    .dataframe thead th {\n",
       "        text-align: right;\n",
       "    }\n",
       "</style>\n",
       "<table border=\"1\" class=\"dataframe\">\n",
       "  <thead>\n",
       "    <tr style=\"text-align: right;\">\n",
       "      <th></th>\n",
       "      <th>Channel</th>\n",
       "      <th>ProductName</th>\n",
       "      <th>Quantity</th>\n",
       "      <th>Price</th>\n",
       "    </tr>\n",
       "  </thead>\n",
       "  <tbody>\n",
       "    <tr>\n",
       "      <th>0</th>\n",
       "      <td>Ebay</td>\n",
       "      <td>Orange</td>\n",
       "      <td>12</td>\n",
       "      <td>5.720</td>\n",
       "    </tr>\n",
       "    <tr>\n",
       "      <th>1</th>\n",
       "      <td>Amazon</td>\n",
       "      <td>Fruits</td>\n",
       "      <td>22</td>\n",
       "      <td>2.375</td>\n",
       "    </tr>\n",
       "    <tr>\n",
       "      <th>2</th>\n",
       "      <td>Own website</td>\n",
       "      <td>Auto Parts</td>\n",
       "      <td>3</td>\n",
       "      <td>4.360</td>\n",
       "    </tr>\n",
       "    <tr>\n",
       "      <th>3</th>\n",
       "      <td>Ebay</td>\n",
       "      <td>Electrical</td>\n",
       "      <td>15</td>\n",
       "      <td>10.990</td>\n",
       "    </tr>\n",
       "    <tr>\n",
       "      <th>4</th>\n",
       "      <td>Ebay</td>\n",
       "      <td>Grape</td>\n",
       "      <td>1</td>\n",
       "      <td>8.340</td>\n",
       "    </tr>\n",
       "  </tbody>\n",
       "</table>\n",
       "</div>"
      ],
      "text/plain": [
       "       Channel ProductName  Quantity   Price\n",
       "0         Ebay      Orange        12   5.720\n",
       "1       Amazon      Fruits        22   2.375\n",
       "2  Own website  Auto Parts         3   4.360\n",
       "3         Ebay  Electrical        15  10.990\n",
       "4         Ebay       Grape         1   8.340"
      ]
     },
     "execution_count": 13,
     "metadata": {},
     "output_type": "execute_result"
    }
   ],
   "source": [
    "df"
   ]
  },
  {
   "cell_type": "code",
   "execution_count": 14,
   "id": "c4aaf9a1",
   "metadata": {},
   "outputs": [
    {
     "data": {
      "text/plain": [
       "Index(['Channel', 'ProductName', 'Quantity', 'Price'], dtype='object')"
      ]
     },
     "execution_count": 14,
     "metadata": {},
     "output_type": "execute_result"
    }
   ],
   "source": [
    "df.columns\n",
    "# Find the columns to check they are correct\n",
    "#you can drop or add column e.g. df= df.drop([use list to add column name like 'Price'])"
   ]
  },
  {
   "cell_type": "code",
   "execution_count": 16,
   "id": "c33984d2",
   "metadata": {},
   "outputs": [
    {
     "data": {
      "text/plain": [
       "(5, 4)"
      ]
     },
     "execution_count": 16,
     "metadata": {},
     "output_type": "execute_result"
    }
   ],
   "source": [
    "df.shape\n",
    "#check the chape of the file like row number and column"
   ]
  },
  {
   "cell_type": "code",
   "execution_count": 17,
   "id": "583d4d8c",
   "metadata": {},
   "outputs": [
    {
     "name": "stdout",
     "output_type": "stream",
     "text": [
      "<class 'pandas.core.frame.DataFrame'>\n",
      "RangeIndex: 5 entries, 0 to 4\n",
      "Data columns (total 4 columns):\n",
      " #   Column       Non-Null Count  Dtype  \n",
      "---  ------       --------------  -----  \n",
      " 0   Channel      5 non-null      object \n",
      " 1   ProductName  5 non-null      object \n",
      " 2   Quantity     5 non-null      int64  \n",
      " 3   Price        5 non-null      float64\n",
      "dtypes: float64(1), int64(1), object(2)\n",
      "memory usage: 288.0+ bytes\n"
     ]
    }
   ],
   "source": [
    "df.info()\n",
    "# Information about the file to validate that you are reading from the right file."
   ]
  },
  {
   "cell_type": "code",
   "execution_count": 24,
   "id": "14092e09",
   "metadata": {},
   "outputs": [
    {
     "data": {
      "text/html": [
       "<div>\n",
       "<style scoped>\n",
       "    .dataframe tbody tr th:only-of-type {\n",
       "        vertical-align: middle;\n",
       "    }\n",
       "\n",
       "    .dataframe tbody tr th {\n",
       "        vertical-align: top;\n",
       "    }\n",
       "\n",
       "    .dataframe thead th {\n",
       "        text-align: right;\n",
       "    }\n",
       "</style>\n",
       "<table border=\"1\" class=\"dataframe\">\n",
       "  <thead>\n",
       "    <tr style=\"text-align: right;\">\n",
       "      <th></th>\n",
       "      <th>Channel</th>\n",
       "      <th>Product</th>\n",
       "      <th>Quantity</th>\n",
       "      <th>Price</th>\n",
       "    </tr>\n",
       "  </thead>\n",
       "  <tbody>\n",
       "    <tr>\n",
       "      <th>0</th>\n",
       "      <td>Ebay</td>\n",
       "      <td>Orange</td>\n",
       "      <td>12</td>\n",
       "      <td>5.720</td>\n",
       "    </tr>\n",
       "    <tr>\n",
       "      <th>1</th>\n",
       "      <td>Amazon</td>\n",
       "      <td>Fruits</td>\n",
       "      <td>22</td>\n",
       "      <td>2.375</td>\n",
       "    </tr>\n",
       "    <tr>\n",
       "      <th>2</th>\n",
       "      <td>Own website</td>\n",
       "      <td>Auto Parts</td>\n",
       "      <td>3</td>\n",
       "      <td>4.360</td>\n",
       "    </tr>\n",
       "    <tr>\n",
       "      <th>3</th>\n",
       "      <td>Ebay</td>\n",
       "      <td>Electrical</td>\n",
       "      <td>15</td>\n",
       "      <td>10.990</td>\n",
       "    </tr>\n",
       "    <tr>\n",
       "      <th>4</th>\n",
       "      <td>Ebay</td>\n",
       "      <td>Grape</td>\n",
       "      <td>1</td>\n",
       "      <td>8.340</td>\n",
       "    </tr>\n",
       "  </tbody>\n",
       "</table>\n",
       "</div>"
      ],
      "text/plain": [
       "       Channel     Product  Quantity   Price\n",
       "0         Ebay      Orange        12   5.720\n",
       "1       Amazon      Fruits        22   2.375\n",
       "2  Own website  Auto Parts         3   4.360\n",
       "3         Ebay  Electrical        15  10.990\n",
       "4         Ebay       Grape         1   8.340"
      ]
     },
     "execution_count": 24,
     "metadata": {},
     "output_type": "execute_result"
    }
   ],
   "source": [
    "df.rename(columns = {'ProductName':'Product'}, inplace = True)\n",
    "# Change the column name\n",
    "df"
   ]
  },
  {
   "cell_type": "code",
   "execution_count": 19,
   "id": "405ea63e",
   "metadata": {},
   "outputs": [
    {
     "data": {
      "text/plain": [
       "array(['Ebay', 'Amazon', 'Own website'], dtype=object)"
      ]
     },
     "execution_count": 19,
     "metadata": {},
     "output_type": "execute_result"
    }
   ],
   "source": [
    "df['Channel'].unique()\n",
    "# What are the distribution channels available?"
   ]
  },
  {
   "cell_type": "code",
   "execution_count": 31,
   "id": "862b59f9",
   "metadata": {},
   "outputs": [
    {
     "name": "stdout",
     "output_type": "stream",
     "text": [
      "Number of unique channels: 3\n"
     ]
    },
    {
     "data": {
      "text/plain": [
       "3"
      ]
     },
     "execution_count": 31,
     "metadata": {},
     "output_type": "execute_result"
    }
   ],
   "source": [
    "def count_unique_channels(df):\n",
    "    try:\n",
    "        unique_channels = df['Channel'].nunique()\n",
    "        print(f\"Number of unique channels: {unique_channels}\")\n",
    "        return unique_channels\n",
    "    except Exception as e:\n",
    "        print(f\"Error counting unique channels: {e}\")\n",
    "        raise\n",
    "count_unique_channels(df)"
   ]
  },
  {
   "cell_type": "code",
   "execution_count": 30,
   "id": "f8119c99",
   "metadata": {},
   "outputs": [
    {
     "data": {
      "text/html": [
       "<div>\n",
       "<style scoped>\n",
       "    .dataframe tbody tr th:only-of-type {\n",
       "        vertical-align: middle;\n",
       "    }\n",
       "\n",
       "    .dataframe tbody tr th {\n",
       "        vertical-align: top;\n",
       "    }\n",
       "\n",
       "    .dataframe thead th {\n",
       "        text-align: right;\n",
       "    }\n",
       "</style>\n",
       "<table border=\"1\" class=\"dataframe\">\n",
       "  <thead>\n",
       "    <tr style=\"text-align: right;\">\n",
       "      <th></th>\n",
       "      <th>Channel</th>\n",
       "      <th>Product</th>\n",
       "      <th>Quantity</th>\n",
       "      <th>Price</th>\n",
       "      <th>Total_sale</th>\n",
       "    </tr>\n",
       "  </thead>\n",
       "  <tbody>\n",
       "    <tr>\n",
       "      <th>0</th>\n",
       "      <td>Ebay</td>\n",
       "      <td>Orange</td>\n",
       "      <td>12</td>\n",
       "      <td>5.720</td>\n",
       "      <td>68.64</td>\n",
       "    </tr>\n",
       "    <tr>\n",
       "      <th>1</th>\n",
       "      <td>Amazon</td>\n",
       "      <td>Fruits</td>\n",
       "      <td>22</td>\n",
       "      <td>2.375</td>\n",
       "      <td>52.25</td>\n",
       "    </tr>\n",
       "    <tr>\n",
       "      <th>2</th>\n",
       "      <td>Own website</td>\n",
       "      <td>Auto Parts</td>\n",
       "      <td>3</td>\n",
       "      <td>4.360</td>\n",
       "      <td>13.08</td>\n",
       "    </tr>\n",
       "    <tr>\n",
       "      <th>3</th>\n",
       "      <td>Ebay</td>\n",
       "      <td>Electrical</td>\n",
       "      <td>15</td>\n",
       "      <td>10.990</td>\n",
       "      <td>164.85</td>\n",
       "    </tr>\n",
       "    <tr>\n",
       "      <th>4</th>\n",
       "      <td>Ebay</td>\n",
       "      <td>Grape</td>\n",
       "      <td>1</td>\n",
       "      <td>8.340</td>\n",
       "      <td>8.34</td>\n",
       "    </tr>\n",
       "  </tbody>\n",
       "</table>\n",
       "</div>"
      ],
      "text/plain": [
       "       Channel     Product  Quantity   Price  Total_sale\n",
       "0         Ebay      Orange        12   5.720       68.64\n",
       "1       Amazon      Fruits        22   2.375       52.25\n",
       "2  Own website  Auto Parts         3   4.360       13.08\n",
       "3         Ebay  Electrical        15  10.990      164.85\n",
       "4         Ebay       Grape         1   8.340        8.34"
      ]
     },
     "execution_count": 30,
     "metadata": {},
     "output_type": "execute_result"
    }
   ],
   "source": [
    "df['Total_sale'] = df['Quantity'] * df['Price']\n",
    "df\n",
    "#create new column for Total_sale which will be populated by qty x p"
   ]
  },
  {
   "cell_type": "code",
   "execution_count": 32,
   "id": "59961d7e",
   "metadata": {},
   "outputs": [
    {
     "data": {
      "text/plain": [
       "False"
      ]
     },
     "execution_count": 32,
     "metadata": {},
     "output_type": "execute_result"
    }
   ],
   "source": [
    "df['Quantity'].isnull().any()\n",
    "#check if Quantity column contain error"
   ]
  },
  {
   "cell_type": "code",
   "execution_count": 54,
   "id": "95cb1e52",
   "metadata": {},
   "outputs": [],
   "source": [
    "if df['Quantity'].isnull().any():\n",
    "     raise ValueError(\"Quantity column contains blank values\")\n",
    "# Check if 'Quantity' column has any blank values by adding it as a function,\n",
    "#if it does, print the error message"
   ]
  },
  {
   "cell_type": "code",
   "execution_count": 56,
   "id": "6c7d3164",
   "metadata": {},
   "outputs": [
    {
     "name": "stderr",
     "output_type": "stream",
     "text": [
      "C:\\ProgramData\\Anaconda3\\lib\\site-packages\\seaborn\\_decorators.py:36: FutureWarning: Pass the following variable as a keyword arg: x. From version 0.12, the only valid positional argument will be `data`, and passing other arguments without an explicit keyword will result in an error or misinterpretation.\n",
      "  warnings.warn(\n"
     ]
    },
    {
     "data": {
      "text/plain": [
       "<AxesSubplot:xlabel='Channel', ylabel='count'>"
      ]
     },
     "execution_count": 56,
     "metadata": {},
     "output_type": "execute_result"
    },
    {
     "data": {
      "image/png": "[encoded data removed]",
      "text/plain": [
       "<Figure size 432x432 with 1 Axes>"
      ]
     },
     "metadata": {
      "needs_background": "light"
     },
     "output_type": "display_data"
    }
   ],
   "source": [
    "plt.figure(figsize = (6,6))\n",
    "sns.countplot(df['Channel'], palette = 'rainbow')"
   ]
  },
  {
   "cell_type": "code",
   "execution_count": 69,
   "id": "6defdeaf",
   "metadata": {},
   "outputs": [
    {
     "data": {
      "text/plain": [
       "<AxesSubplot:xlabel='Channel', ylabel='Total_sale'>"
      ]
     },
     "execution_count": 69,
     "metadata": {},
     "output_type": "execute_result"
    },
    {
     "data": {
      "image/png": "[encoded data removed]",
      "text/plain": [
       "<Figure size 432x432 with 1 Axes>"
      ]
     },
     "metadata": {
      "needs_background": "light"
     },
     "output_type": "display_data"
    }
   ],
   "source": [
    "plt.figure(figsize = (6,6))\n",
    "sns.barplot(x = 'Channel', y = 'Total_sale' , data = df)"
   ]
  },
  {
   "cell_type": "code",
   "execution_count": 71,
   "id": "fb4dc980",
   "metadata": {},
   "outputs": [
    {
     "data": {
      "text/plain": [
       "<AxesSubplot:xlabel='Product', ylabel='Total_sale'>"
      ]
     },
     "execution_count": 71,
     "metadata": {},
     "output_type": "execute_result"
    },
    {
     "data": {
      "image/png": "[encoded data removed]",
      "text/plain": [
       "<Figure size 432x432 with 1 Axes>"
      ]
     },
     "metadata": {
      "needs_background": "light"
     },
     "output_type": "display_data"
    }
   ],
   "source": [
    "plt.figure(figsize = (6,6))\n",
    "sns.barplot(x = 'Product', y = 'Total_sale' , data = df)"
   ]
  },
  {
   "cell_type": "code",
   "execution_count": 76,
   "id": "41296088",
   "metadata": {},
   "outputs": [
    {
     "data": {
      "text/plain": [
       "<AxesSubplot:xlabel='Channel', ylabel='Quantity'>"
      ]
     },
     "execution_count": 76,
     "metadata": {},
     "output_type": "execute_result"
    },
    {
     "data": {
      "image/png": "[encoded data removed]",
      "text/plain": [
       "<Figure size 432x432 with 1 Axes>"
      ]
     },
     "metadata": {
      "needs_background": "light"
     },
     "output_type": "display_data"
    }
   ],
   "source": [
    "plt.figure(figsize = (6,6))\n",
    "sns.barplot(x = 'Channel', y = 'Quantity' , data = df)"
   ]
  },
  {
   "cell_type": "code",
   "execution_count": 75,
   "id": "bb738365",
   "metadata": {},
   "outputs": [
    {
     "data": {
      "text/html": [
       "<div>\n",
       "<style scoped>\n",
       "    .dataframe tbody tr th:only-of-type {\n",
       "        vertical-align: middle;\n",
       "    }\n",
       "\n",
       "    .dataframe tbody tr th {\n",
       "        vertical-align: top;\n",
       "    }\n",
       "\n",
       "    .dataframe thead th {\n",
       "        text-align: right;\n",
       "    }\n",
       "</style>\n",
       "<table border=\"1\" class=\"dataframe\">\n",
       "  <thead>\n",
       "    <tr style=\"text-align: right;\">\n",
       "      <th></th>\n",
       "      <th>Channel</th>\n",
       "      <th>Product</th>\n",
       "      <th>Quantity</th>\n",
       "      <th>Price</th>\n",
       "      <th>Total_sale</th>\n",
       "    </tr>\n",
       "  </thead>\n",
       "  <tbody>\n",
       "    <tr>\n",
       "      <th>0</th>\n",
       "      <td>Ebay</td>\n",
       "      <td>Orange</td>\n",
       "      <td>12</td>\n",
       "      <td>5.720</td>\n",
       "      <td>68.64</td>\n",
       "    </tr>\n",
       "    <tr>\n",
       "      <th>1</th>\n",
       "      <td>Amazon</td>\n",
       "      <td>Fruits</td>\n",
       "      <td>22</td>\n",
       "      <td>2.375</td>\n",
       "      <td>52.25</td>\n",
       "    </tr>\n",
       "    <tr>\n",
       "      <th>2</th>\n",
       "      <td>Own website</td>\n",
       "      <td>Auto Parts</td>\n",
       "      <td>3</td>\n",
       "      <td>4.360</td>\n",
       "      <td>13.08</td>\n",
       "    </tr>\n",
       "    <tr>\n",
       "      <th>3</th>\n",
       "      <td>Ebay</td>\n",
       "      <td>Electrical</td>\n",
       "      <td>15</td>\n",
       "      <td>10.990</td>\n",
       "      <td>164.85</td>\n",
       "    </tr>\n",
       "    <tr>\n",
       "      <th>4</th>\n",
       "      <td>Ebay</td>\n",
       "      <td>Grape</td>\n",
       "      <td>1</td>\n",
       "      <td>8.340</td>\n",
       "      <td>8.34</td>\n",
       "    </tr>\n",
       "  </tbody>\n",
       "</table>\n",
       "</div>"
      ],
      "text/plain": [
       "       Channel     Product  Quantity   Price  Total_sale\n",
       "0         Ebay      Orange        12   5.720       68.64\n",
       "1       Amazon      Fruits        22   2.375       52.25\n",
       "2  Own website  Auto Parts         3   4.360       13.08\n",
       "3         Ebay  Electrical        15  10.990      164.85\n",
       "4         Ebay       Grape         1   8.340        8.34"
      ]
     },
     "execution_count": 75,
     "metadata": {},
     "output_type": "execute_result"
    }
   ],
   "source": [
    "df"
   ]
  },
  {
   "cell_type": "code",
   "execution_count": null,
   "id": "f8d374f1",
   "metadata": {},
   "outputs": [],
   "source": []
  }
 ],
 "metadata": {
  "kernelspec": {
   "display_name": "Python 3 (ipykernel)",
   "language": "python",
   "name": "python3"
  },
  "language_info": {
   "codemirror_mode": {
    "name": "ipython",
    "version": 3
   },
   "file_extension": ".py",
   "mimetype": "text/x-python",
   "name": "python",
   "nbconvert_exporter": "python",
   "pygments_lexer": "ipython3",
   "version": "3.9.12"
  }
 },
 "nbformat": 4,
 "nbformat_minor": 5
}
